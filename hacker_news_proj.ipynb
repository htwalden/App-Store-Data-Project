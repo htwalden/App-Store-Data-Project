{
 "cells": [
  {
   "cell_type": "markdown",
   "metadata": {},
   "source": [
    "# Hacker News Project: determining the best time to post to receive the most comments"
   ]
  },
  {
   "cell_type": "markdown",
   "metadata": {},
   "source": [
    "## Project #2 in the DataQuest project series"
   ]
  },
  {
   "cell_type": "markdown",
   "metadata": {},
   "source": [
    "## About Hacker News"
   ]
  },
  {
   "cell_type": "markdown",
   "metadata": {},
   "source": [
    "Hacker News user-submitted stories (known as \"posts\") receive votes and comments, similar to reddit. Hacker News is extremely popular in technology and startup circles, and posts that make it to the top of the Hacker News listings can get hundreds of thousands of visitors as a result."
   ]
  },
  {
   "cell_type": "markdown",
   "metadata": {},
   "source": [
    "## Goals for the Project"
   ]
  },
  {
   "cell_type": "markdown",
   "metadata": {},
   "source": [
    "\n",
    "1. Determine if titles that begin with 'Ask HN' or 'Show HN' receive more comments. \n",
    "2. Determine if posts made at a particular time receive more comments on average. "
   ]
  },
  {
   "cell_type": "markdown",
   "metadata": {},
   "source": [
    "### Project and format notes"
   ]
  },
  {
   "cell_type": "markdown",
   "metadata": {},
   "source": [
    "On datasets: The original dataset for this project is here: https://www.kaggle.com/hacker-news/hacker-news-posts\n",
    "The original dataset contains nearly 300,000 rows of data. I decided to clean, organize and store the original data myself rather than use the cleaned version provided by DataQuest. Since I cleaned the dataset myself, my answers will vary slightly as I do not know the exact steps DataQuest took to clean the dataset that is used in their guided project. After cleaning the original dataset, the final dataset contains about 80,000 lines of data whereas the DataQuest set contains about 20,000 lines of data. In the DataQuest guided project, they said they removed rows of data that had no comments and then randomly removed additional rows to get a final dataset of about 20k lines of data.  \n",
    "\n",
    "On formatting: The format that you will see below is presented in the following order: \n",
    "1. Section\n",
    "2. Code with comments\n",
    "3. Printed result (if any)\n",
    "4. Markdown explaining the code, why/how it works, and any results\n"
   ]
  },
  {
   "cell_type": "markdown",
   "metadata": {},
   "source": [
    "## Part 1: Import and clean the Data"
   ]
  },
  {
   "cell_type": "markdown",
   "metadata": {},
   "source": [
    "### Step 1: import data"
   ]
  },
  {
   "cell_type": "code",
   "execution_count": 1,
   "metadata": {},
   "outputs": [],
   "source": [
    "#Open the original dataset and put into list of lists\n",
    "import pandas as pd\n",
    "import matplotlib.pyplot as plt\n",
    "import seaborn as sns\n",
    "import csv\n",
    "opened_file = open('/home/hunter/Jupyter Projects/HN_posts_year_to_Sep_26_2016.csv')\n",
    "read_file = csv.reader(opened_file)\n",
    "hn_posts = list(read_file)\n",
    "\n",
    "#import datetime for later use\n",
    "\n",
    "from datetime import datetime\n",
    "from datetime import time"
   ]
  },
  {
   "cell_type": "markdown",
   "metadata": {},
   "source": [
    "### Step 2: examine data organization"
   ]
  },
  {
   "cell_type": "code",
   "execution_count": 2,
   "metadata": {
    "scrolled": true
   },
   "outputs": [
    {
     "name": "stdout",
     "output_type": "stream",
     "text": [
      "The dataset contains 293120 lines of data\n",
      "\n",
      "['id', 'title', 'url', 'num_points', 'num_comments', 'author', 'created_at']\n",
      "\n",
      "[['12579008', 'You have two days to comment if you want stem cells to be classified as your own', 'http://www.regulations.gov/document?D=FDA-2015-D-3719-0018', '1', '0', 'altstar', '9/26/2016 3:26'], ['12579005', 'SQLAR  the SQLite Archiver', 'https://www.sqlite.org/sqlar/doc/trunk/README.md', '1', '0', 'blacksqr', '9/26/2016 3:24']]\n"
     ]
    }
   ],
   "source": [
    "print('The dataset contains', len(hn_posts), 'lines of data')\n",
    "print()\n",
    "print(hn_posts[0]) #header row\n",
    "print()\n",
    "print(hn_posts[1:3]) #example data"
   ]
  },
  {
   "cell_type": "markdown",
   "metadata": {},
   "source": [
    "The original file has almost 300k lines of data. There are 7 total columns of data. The columns that are necessary for the analysis are: 'title', ' num_comments', 'created_at'. These 3 columns will be analyzed to find answers to the two goals listed in the introduction. "
   ]
  },
  {
   "cell_type": "markdown",
   "metadata": {},
   "source": [
    "### Step 3: remove articles without comments"
   ]
  },
  {
   "cell_type": "code",
   "execution_count": 3,
   "metadata": {},
   "outputs": [
    {
     "name": "stdout",
     "output_type": "stream",
     "text": [
      "After removing rows without comments there are: 80401 rows remaining\n"
     ]
    }
   ],
   "source": [
    "#delete rows that have no comments\n",
    "\n",
    "hn_posts_comments = []\n",
    "\n",
    "for row in hn_posts[1:]: #remove header\n",
    "    comments = int(row[4])\n",
    "    row[4] = comments\n",
    "    if comments >= 1:\n",
    "        hn_posts_comments.append(row)\n",
    "\n",
    "print('After removing rows without comments there are:', len(hn_posts_comments), 'rows remaining')"
   ]
  },
  {
   "cell_type": "markdown",
   "metadata": {},
   "source": [
    "The above code removed all rows of data that have no comments. We will do the analysis only on articles that do recieve comments. "
   ]
  },
  {
   "cell_type": "markdown",
   "metadata": {},
   "source": [
    "### Step 4: check for rows with incomplete data"
   ]
  },
  {
   "cell_type": "code",
   "execution_count": 4,
   "metadata": {},
   "outputs": [
    {
     "name": "stdout",
     "output_type": "stream",
     "text": [
      "Rows with complete data: 80401\n",
      "Rows with incomplete data: 0\n"
     ]
    }
   ],
   "source": [
    "\n",
    "hn_posts_full = [] #for complete rows\n",
    "hn_posts_incomplete = [] #for incomplete rows\n",
    "head_len = len(hn_posts[0])\n",
    "\n",
    "for row in hn_posts_comments:\n",
    "    if len(row) != head_len:\n",
    "        hn_posts_incomplete.append(row)\n",
    "    else: \n",
    "        hn_posts_full.append(row)\n",
    "\n",
    "print('Rows with complete data:', len(hn_posts_full))\n",
    "print('Rows with incomplete data:', len(hn_posts_incomplete))"
   ]
  },
  {
   "cell_type": "markdown",
   "metadata": {},
   "source": [
    "### Step 5: check for and remove duplicate rows"
   ]
  },
  {
   "cell_type": "code",
   "execution_count": 5,
   "metadata": {},
   "outputs": [],
   "source": [
    "#check for duplicate data:\n",
    "\n",
    "duplicates = {}\n",
    "for row in hn_posts_full:\n",
    "    identification = row[0]\n",
    "    if identification in duplicates: \n",
    "        duplicates[identification] += 1\n",
    "    else: \n",
    "        duplicates[identification] = 1\n",
    "\n",
    "for value in duplicates.values():\n",
    "    if value > 1: \n",
    "        print(val)\n",
    "\n",
    "#testing the code above to make sure it will return the expected value\n",
    "#test = {'a': 1, 'b': 3, 'c': 0} \n",
    "#for val in test.values():\n",
    "#    if val > 1: \n",
    "#      print(val)  "
   ]
  },
  {
   "cell_type": "markdown",
   "metadata": {},
   "source": [
    "The dataset has no duplicate rows  "
   ]
  },
  {
   "cell_type": "markdown",
   "metadata": {},
   "source": [
    "### Step 6: establish the final dataset "
   ]
  },
  {
   "cell_type": "code",
   "execution_count": 6,
   "metadata": {},
   "outputs": [
    {
     "name": "stdout",
     "output_type": "stream",
     "text": [
      "['id', 'title', 'url', 'num_points', 'num_comments', 'author', 'created_at']\n",
      "\n",
      "[['12578975', 'Saving the Hassle of Shopping', 'https://blog.menswr.com/2016/09/07/whats-new-with-your-style-feed/', '1', 1, 'bdoux', '9/26/2016 3:13'], ['12578908', 'Ask HN: What TLD do you use for local development?', '', '4', 7, 'Sevrene', '9/26/2016 2:53'], ['12578822', 'Amazons Algorithms Dont Find You the Best Deals', 'https://www.technologyreview.com/s/602442/amazons-algorithms-dont-find-you-the-best-deals/', '1', 1, 'yarapavan', '9/26/2016 2:26'], ['12578694', 'Emergency dose of epinephrine that does not cost an arm and a leg', 'http://m.imgur.com/gallery/th6Ua', '2', 1, 'dredmorbius', '9/26/2016 1:54'], ['12578624', 'Phone Makers Could Cut Off Drivers. So Why Dont They?', 'http://www.nytimes.com/2016/09/25/technology/phone-makers-could-cut-off-drivers-so-why-dont-they.html', '4', 1, 'danso', '9/26/2016 1:37']]\n",
      "\n",
      "Final dataset length: 80401\n"
     ]
    }
   ],
   "source": [
    "headers = hn_posts[0]\n",
    "hn_fin = hn_posts_full\n",
    "\n",
    "print(headers)\n",
    "print()\n",
    "print(hn_fin[0:5])\n",
    "print()\n",
    "print('Final dataset length:', len(hn_fin))"
   ]
  },
  {
   "cell_type": "markdown",
   "metadata": {},
   "source": [
    "The dataset is cleaned and ready for analysis. The data set we will use below is called `hn_fin`. "
   ]
  },
  {
   "cell_type": "markdown",
   "metadata": {},
   "source": [
    "## Part 2: Filter the data"
   ]
  },
  {
   "cell_type": "code",
   "execution_count": 7,
   "metadata": {
    "scrolled": true
   },
   "outputs": [
    {
     "name": "stdout",
     "output_type": "stream",
     "text": [
      "80401\n",
      "len_ask: 6899\n",
      "len_show: 5052\n",
      "len_oth: 68450\n"
     ]
    }
   ],
   "source": [
    "#Extract rows that have titles the begin with \"ask HN\" or \"show HN\"\n",
    "\n",
    "hn_ask = [] #for titles beginning w/ 'Ask HN'\n",
    "hn_show = [] #for titles beginning w/ 'Show HN'\n",
    "hn_oth = [] #for all other titles\n",
    "\n",
    "for row in hn_fin: \n",
    "    title = row[1]\n",
    "    tsw = title.startswith('Ask HN') #'tsw' stands for 'title starts with'\n",
    "    tsw_two = title.startswith('Show HN') \n",
    "    if tsw == True: \n",
    "        hn_ask.append(row)\n",
    "    elif tsw_two == True: \n",
    "        hn_show.append(row)\n",
    "    else: \n",
    "        hn_oth.append(row) \n",
    "\n",
    "#check to see if all lists add to original:\n",
    "\n",
    "len_ask = len(hn_ask)\n",
    "len_show = len(hn_show)\n",
    "len_oth = len(hn_oth)\n",
    "sumz = len_ask + len_show + len_oth\n",
    "print(sumz)\n",
    "print('len_ask:', len_ask)\n",
    "print('len_show:',len_show)\n",
    "print('len_oth:', len_oth)"
   ]
  },
  {
   "cell_type": "markdown",
   "metadata": {},
   "source": [
    "In the code block above, I iterated over the cleaned dataset and extracted titles that began with either 'Ask HN', 'Show HN' or others. Then I appended each stored title row into its own respective list for analysis below. "
   ]
  },
  {
   "cell_type": "markdown",
   "metadata": {},
   "source": [
    "## Part 3: Analyze the data"
   ]
  },
  {
   "cell_type": "markdown",
   "metadata": {},
   "source": [
    "### Step 1: find the average comments per post type"
   ]
  },
  {
   "cell_type": "code",
   "execution_count": 8,
   "metadata": {},
   "outputs": [],
   "source": [
    "#check to see if 'Ask HN' or 'Show HN' gets more comments on average\n",
    "# 'tot_com' stands for 'total comments'\n",
    "\n",
    "def avg_comment(li, a): \n",
    "    tot_com = 0\n",
    "    for row in li: \n",
    "        tot_com += int(row[a])\n",
    "\n",
    "    avg_com_cnt = round((tot_com / len(li)), 2)\n",
    "    \n",
    "    return avg_com_cnt"
   ]
  },
  {
   "cell_type": "markdown",
   "metadata": {},
   "source": [
    "The function above will find the average number of comments per post by first finding the sum total of all comments in the list and dividing by then numer of posts in the list. "
   ]
  },
  {
   "cell_type": "code",
   "execution_count": 9,
   "metadata": {},
   "outputs": [
    {
     "name": "stdout",
     "output_type": "stream",
     "text": [
      "ask_avg is: 13.76\n",
      "show_avg is: 9.82\n",
      "oth_avg is: 25.83\n"
     ]
    }
   ],
   "source": [
    "ask_avg = avg_comment(hn_ask, 4)\n",
    "print('ask_avg is:', ask_avg)\n",
    "show_avg = avg_comment(hn_show, 4)\n",
    "print('show_avg is:', show_avg)\n",
    "oth_avg = avg_comment(hn_oth, 4)\n",
    "print('oth_avg is:', oth_avg)"
   ]
  },
  {
   "cell_type": "markdown",
   "metadata": {},
   "source": [
    "Titles that begin with 'Ask HN' on average recieve more comments than titles that begin with 'Show HN'. Therefore,  the remainder of the data analysis articles that begin with 'Ask HN' will be the focus."
   ]
  },
  {
   "cell_type": "markdown",
   "metadata": {},
   "source": [
    "### Step 2: total comments per hour"
   ]
  },
  {
   "cell_type": "code",
   "execution_count": 10,
   "metadata": {
    "scrolled": true
   },
   "outputs": [
    {
     "name": "stdout",
     "output_type": "stream",
     "text": [
      "Hour 15 : comments 18525\n",
      "Hour 13 : comments 7227\n",
      "Hour 17 : comments 5547\n",
      "Hour 14 : comments 4970\n",
      "Hour 18 : comments 4868\n",
      "Hour 21 : comments 4500\n",
      "Hour 20 : comments 4462\n",
      "Hour 16 : comments 4461\n",
      "Hour 12 : comments 4234\n",
      "Hour 19 : comments 3954\n",
      "Hour 22 : comments 3369\n",
      "Hour 10 : comments 3013\n",
      "Hour 2 : comments 2996\n",
      "Hour 11 : comments 2794\n",
      "Hour 8 : comments 2362\n",
      "Hour 4 : comments 2358\n",
      "Hour 23 : comments 2297\n",
      "Hour 0 : comments 2265\n",
      "Hour 3 : comments 2153\n",
      "Hour 1 : comments 2089\n",
      "Hour 5 : comments 1838\n",
      "Hour 6 : comments 1587\n",
      "Hour 7 : comments 1584\n",
      "Hour 9 : comments 1477\n",
      "Hour 15 : post 467\n",
      "Hour 18 : post 451\n",
      "Hour 19 : post 420\n",
      "Hour 16 : post 414\n",
      "Hour 21 : post 407\n",
      "Hour 17 : post 404\n",
      "Hour 20 : post 392\n",
      "Hour 14 : post 377\n",
      "Hour 13 : post 324\n",
      "Hour 22 : post 286\n",
      "Hour 23 : post 276\n",
      "Hour 12 : post 274\n",
      "Hour 11 : post 250\n",
      "Hour 0 : post 229\n",
      "Hour 2 : post 227\n",
      "Hour 1 : post 223\n",
      "Hour 10 : post 219\n",
      "Hour 3 : post 211\n",
      "Hour 8 : post 190\n",
      "Hour 4 : post 185\n",
      "Hour 9 : post 176\n",
      "Hour 6 : post 176\n",
      "Hour 5 : post 165\n",
      "Hour 7 : post 156\n"
     ]
    }
   ],
   "source": [
    "#Calculate the number of ask posts created in each hour of the day, \n",
    "#Calculate the total number of comments per hour.\n",
    "# 'pph' stands for 'posts per hour'\n",
    "# 'cph' stands for 'comments per hour'\n",
    "\n",
    "pph = {} #frequency table for posts per hour\n",
    "cph = {} #frequency for comments per hour\n",
    "for row in hn_ask: #parse out and return the hour\n",
    "    comments = row[4]\n",
    "    timer = row[6]\n",
    "    time_one = datetime.strptime(timer, '%m/%d/%Y %H:%M')\n",
    "    t1 = time_one.time()\n",
    "    hr = t1.hour #extract the hour from the datetime in row[6]\n",
    "    if hr in cph:\n",
    "        cph[hr] += comments\n",
    "    else:\n",
    "        cph[hr] = comments #put the hour into the dictionary as the key with comments as value\n",
    "   \n",
    "    if hr in pph:\n",
    "        pph[hr] += 1 \n",
    "    else: \n",
    "        pph[hr] = 1 #put hour in dictioary as key with '1' as value for each post\n",
    "\n",
    "        \n",
    "#store dictionary 'comments per hour' as list of tuples, sort list, then print in descending order\n",
    "cph_store = [(cph[key], key) for key in cph]\n",
    "cph_sort = sorted(cph_store, reverse=True)\n",
    "for row in cph_sort:\n",
    "    hr = row[1]\n",
    "    comments = row[0]\n",
    "    table_row = 'Hour {} : comments {}'.format(hr, comments)\n",
    "    print(table_row)\n",
    "\n",
    "\n",
    "#store dictionary 'posts per hour' as list of tuples, sort list, then print in descending order\n",
    "pph_store = [(pph[key], key) for key in pph]   \n",
    "pph_sort = sorted(pph_store, reverse=True)\n",
    "for row in pph_sort: \n",
    "    hr = row[1]\n",
    "    posts = row[0]\n",
    "    table_row = 'Hour {} : post {}'.format(hr, posts)\n",
    "    print(table_row)   "
   ]
  },
  {
   "cell_type": "code",
   "execution_count": 23,
   "metadata": {},
   "outputs": [
    {
     "data": {
      "text/plain": [
       "<seaborn.axisgrid.FacetGrid at 0x7f6baebb6dd0>"
      ]
     },
     "execution_count": 23,
     "metadata": {},
     "output_type": "execute_result"
    },
    {
     "data": {
      "image/png": "[encoded data removed]",
      "text/plain": [
       "<Figure size 360x360 with 1 Axes>"
      ]
     },
     "metadata": {
      "needs_background": "light"
     },
     "output_type": "display_data"
    },
    {
     "data": {
      "image/png": "[encoded data removed]",
      "text/plain": [
       "<Figure size 360x360 with 1 Axes>"
      ]
     },
     "metadata": {
      "needs_background": "light"
     },
     "output_type": "display_data"
    }
   ],
   "source": [
    "#create a line plot showing posts per hour for both AskHN and ShowHN\n",
    "\n",
    "pph_sort = dict(sorted(pph.items()))\n",
    "pph_df = pd.DataFrame(pph_sort.items())\n",
    "pph_df = pph_df.rename(columns={0:'hour', 1:'posts_per_hour'})\n",
    "\n",
    "cph_sort = dict(sorted(cph.items()))\n",
    "cph_df = pd.DataFrame(cph_sort.items())\n",
    "cph_df = cph_df.rename(columns={0:'hour', 1:'comments_per_hour'})\n",
    "\n",
    "\n",
    "sns.relplot(data=pph_df, x='hour', y='posts_per_hour', kind='line')\n",
    "\n",
    "sns.relplot(data=cph_df, x='hour', y='comments_per_hour', kind='line')\n",
    "\n",
    "\n"
   ]
  },
  {
   "cell_type": "markdown",
   "metadata": {},
   "source": [
    "In the code block above we first created two dictionaries. `ppp` for posts per hour is a dictionary where the keys are the hours of the day and the values are a frequency table for number of posts that occur in each hour. `cph` for comments per hour is a dictionary where the keys are the hours in a day and the values are the total number of all the comments for each post in that given hour. \n",
    "\n",
    "The hours were extracted from the dataset using datetime strptime and time methods. The hours were put into each dictionary. \n",
    "\n",
    "After the dictionaries were created, the key, val pairs were converted into a list that was sorted and the sorted results were printed. \n",
    "\n",
    "The results obtained in this step show that among posts with titles that begin with 'Ask HN' the top 5 hours that receive the most comments are hours 15, 13, 17, 14, and 18 respectively. \n",
    "\n",
    "The hours in which most posts were made were 15, 18, 19, 16, and 21 respectively. \n",
    "\n",
    "It is interesting to note that there is a difference between the most posts and the most comments. And the only result where the comments and posts match up is on the first result hour 15. "
   ]
  },
  {
   "cell_type": "markdown",
   "metadata": {},
   "source": [
    "### Step 3: find average comment per post per hour"
   ]
  },
  {
   "cell_type": "code",
   "execution_count": 25,
   "metadata": {
    "scrolled": true
   },
   "outputs": [
    {
     "name": "stdout",
     "output_type": "stream",
     "text": [
      "[[39.67, 15], [22.31, 13], [15.45, 12], [13.76, 10], [13.73, 17], [13.2, 2], [13.18, 14], [12.75, 4], [12.43, 8], [11.78, 22], [11.38, 20], [11.18, 11], [11.14, 5], [11.06, 21], [10.79, 18], [10.78, 16], [10.2, 3], [10.15, 7], [9.89, 0], [9.41, 19], [9.37, 1], [9.02, 6], [8.39, 9], [8.32, 23]]\n",
      "15 : 39.67 average comments per post per hour\n",
      "13 : 22.31 average comments per post per hour\n",
      "12 : 15.45 average comments per post per hour\n",
      "10 : 13.76 average comments per post per hour\n",
      "17 : 13.73 average comments per post per hour\n",
      "2 : 13.20 average comments per post per hour\n",
      "14 : 13.18 average comments per post per hour\n",
      "4 : 12.75 average comments per post per hour\n",
      "8 : 12.43 average comments per post per hour\n",
      "22 : 11.78 average comments per post per hour\n",
      "20 : 11.38 average comments per post per hour\n",
      "11 : 11.18 average comments per post per hour\n",
      "5 : 11.14 average comments per post per hour\n",
      "21 : 11.06 average comments per post per hour\n",
      "18 : 10.79 average comments per post per hour\n",
      "16 : 10.78 average comments per post per hour\n",
      "3 : 10.20 average comments per post per hour\n",
      "7 : 10.15 average comments per post per hour\n",
      "0 : 9.89 average comments per post per hour\n",
      "19 : 9.41 average comments per post per hour\n",
      "1 : 9.37 average comments per post per hour\n",
      "6 : 9.02 average comments per post per hour\n",
      "9 : 8.39 average comments per post per hour\n",
      "23 : 8.32 average comments per post per hour\n"
     ]
    }
   ],
   "source": [
    "# 'cppph' stands for 'comments per post per hour'\n",
    "\n",
    "avg_cppph = [[round(cph[k]/pph[k], 2), k] for k in pph if k == k]\n",
    "avg_cppph = sorted(avg_cppph, reverse = True)\n",
    "\n",
    "for row in avg_cppph:\n",
    "    average = row[0]\n",
    "    hr = row[1]\n",
    "    print('{} : {:.2f} average comments per post per hour'.format(hr, average))"
   ]
  },
  {
   "cell_type": "code",
   "execution_count": 44,
   "metadata": {},
   "outputs": [
    {
     "data": {
      "text/plain": [
       "<seaborn.axisgrid.FacetGrid at 0x7f6baeb7c250>"
      ]
     },
     "execution_count": 44,
     "metadata": {},
     "output_type": "execute_result"
    },
    {
     "data": {
      "image/png": "[encoded data removed]",
      "text/plain": [
       "<Figure size 360x360 with 1 Axes>"
      ]
     },
     "metadata": {
      "needs_background": "light"
     },
     "output_type": "display_data"
    }
   ],
   "source": [
    "av_com_per_hr = pd.DataFrame(avg_cppph).rename(columns={0:'avg_comments', 1:'hour'})\n",
    "\n",
    "av_com_per_hr.sort_values(by=(['hour']), inplace=True)\n",
    "\n",
    "sns.catplot(data=av_com_per_hr, x='hour', y='avg_comments', kind='bar')"
   ]
  },
  {
   "cell_type": "markdown",
   "metadata": {},
   "source": [
    "## Conclusions: \n",
    "\n",
    "Goal 1 was to determine if posts that have titles that begin with 'Ask HN' or 'Show HN' have more popularity. We achieved the answer to this goal. The answer is 'Ask HN' has more popularity over 'Show HN'. The answer was determined by analyzing which posts had more comments on average. One interesting observation is the total number of posts made with either 'Ask' or 'Show' HN. 'Ask HN' posts outnumbered 'Show HN' posts by approximately 1850. It may be worth considering that, although 'Ask HN' posts receive more comments on average, you might have a better chance of writing a more popular post with a 'Show HN' title because there is less competition in that category.  \n",
    "\n",
    "Goal 2 was to determine what time of day is best to make a post in order to have the highest chance of receiving comments on the posting. According to the data analysis the top 3 times for posting articles with the title starting with 'Ask HN' on Hacker News, is 15:00, 13:00, 12:00 respectively. Keep in mind that all these times are in UTC.\n",
    "\n",
    "Further analysis should be done on all the other titles that received comments to see if there are similarities that could be leeraged to get even more comments than the 'Ask HN' posts. The number of 'oth' title significantly outnumbers 'Ask' and 'Show' HN posts by an order of magnitude. \n"
   ]
  }
 ],
 "metadata": {
  "kernelspec": {
   "display_name": "Python 3 (ipykernel)",
   "language": "python",
   "name": "python3"
  },
  "language_info": {
   "codemirror_mode": {
    "name": "ipython",
    "version": 3
   },
   "file_extension": ".py",
   "mimetype": "text/x-python",
   "name": "python",
   "nbconvert_exporter": "python",
   "pygments_lexer": "ipython3",
   "version": "3.7.11"
  }
 },
 "nbformat": 4,
 "nbformat_minor": 2
}
