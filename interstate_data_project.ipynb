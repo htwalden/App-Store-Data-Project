{
 "cells": [
  {
   "cell_type": "markdown",
   "id": "8b8a1f47",
   "metadata": {},
   "source": [
    "# Interstate Traffic Project: Exploring factors that influence traffic volume"
   ]
  },
  {
   "cell_type": "markdown",
   "id": "20eb73e5",
   "metadata": {},
   "source": [
    "### About\n",
    "\n",
    "This project is about exploring and analyzing interstate traffic data. Specifically the dataset covers hourly Minneapolis-St Paul, MN traffic volume for westbound I-94. The data set includes weather and holiday features from 2012-2018. The purpose of the project is to analyze traffic data to find insights on what variables impact traffic volume and other data, and to make suggestions on when the best and worst times to travel are. \n",
    "\n",
    "The original dataset can be found here: https://archive.ics.uci.edu/ml/datasets/Metro+Interstate+Traffic+Volume"
   ]
  },
  {
   "cell_type": "markdown",
   "id": "d0fd290e",
   "metadata": {},
   "source": [
    "### Goals\n",
    "\n",
    "The central question this analysis seeks to answer is: \n",
    "- What is the primary factor that influences heavy traffic volume? \n",
    "- When is the best time to travel to avoid heavy traffic volume?\n"
   ]
  },
  {
   "cell_type": "markdown",
   "id": "5d5f8daf",
   "metadata": {},
   "source": [
    "### Format Notes\n",
    "\n",
    "This project will follow the following format: \n",
    "1. Part #\n",
    "2. Step #\n",
    "3. code block\n",
    "4. markdown cell explainging the code and output in the block above\n"
   ]
  },
  {
   "cell_type": "markdown",
   "id": "92b222a1",
   "metadata": {},
   "source": [
    "### Contents:\n",
    "- Part 1: import and review data\n",
    "- Part 2: clean the data\n",
    "- Part 3: explore data\n",
    "- Part 4: data analysis\n",
    "- Part 5: conclusion"
   ]
  },
  {
   "cell_type": "markdown",
   "id": "fd404e02",
   "metadata": {},
   "source": [
    "## Part 1: import and review data"
   ]
  },
  {
   "cell_type": "markdown",
   "id": "0a6e0a63",
   "metadata": {},
   "source": [
    "### Step 1: import libraries"
   ]
  },
  {
   "cell_type": "code",
   "execution_count": 1,
   "id": "b75cd609",
   "metadata": {},
   "outputs": [],
   "source": [
    "import numpy as np\n",
    "import pandas as pd\n",
    "import matplotlib.pyplot as plt\n",
    "pd.options.mode.chained_assignment = None\n",
    "import seaborn as sns"
   ]
  },
  {
   "cell_type": "markdown",
   "id": "11c0d4ea",
   "metadata": {},
   "source": [
    "### Step 2: read and view data set"
   ]
  },
  {
   "cell_type": "code",
   "execution_count": 2,
   "id": "818fd438",
   "metadata": {
    "scrolled": false
   },
   "outputs": [
    {
     "data": {
      "text/html": [
       "<div>\n",
       "<style scoped>\n",
       "    .dataframe tbody tr th:only-of-type {\n",
       "        vertical-align: middle;\n",
       "    }\n",
       "\n",
       "    .dataframe tbody tr th {\n",
       "        vertical-align: top;\n",
       "    }\n",
       "\n",
       "    .dataframe thead th {\n",
       "        text-align: right;\n",
       "    }\n",
       "</style>\n",
       "<table border=\"1\" class=\"dataframe\">\n",
       "  <thead>\n",
       "    <tr style=\"text-align: right;\">\n",
       "      <th></th>\n",
       "      <th>holiday</th>\n",
       "      <th>temp</th>\n",
       "      <th>rain_1h</th>\n",
       "      <th>snow_1h</th>\n",
       "      <th>clouds_all</th>\n",
       "      <th>weather_main</th>\n",
       "      <th>weather_description</th>\n",
       "      <th>date_time</th>\n",
       "      <th>traffic_volume</th>\n",
       "    </tr>\n",
       "  </thead>\n",
       "  <tbody>\n",
       "    <tr>\n",
       "      <th>32412</th>\n",
       "      <td>None</td>\n",
       "      <td>278.820</td>\n",
       "      <td>0.0</td>\n",
       "      <td>0.0</td>\n",
       "      <td>1</td>\n",
       "      <td>Clear</td>\n",
       "      <td>sky is clear</td>\n",
       "      <td>2017-04-06 00:00:00</td>\n",
       "      <td>746</td>\n",
       "    </tr>\n",
       "    <tr>\n",
       "      <th>23719</th>\n",
       "      <td>None</td>\n",
       "      <td>288.620</td>\n",
       "      <td>0.0</td>\n",
       "      <td>0.0</td>\n",
       "      <td>90</td>\n",
       "      <td>Mist</td>\n",
       "      <td>mist</td>\n",
       "      <td>2016-05-28 07:00:00</td>\n",
       "      <td>1994</td>\n",
       "    </tr>\n",
       "    <tr>\n",
       "      <th>26694</th>\n",
       "      <td>None</td>\n",
       "      <td>292.160</td>\n",
       "      <td>0.0</td>\n",
       "      <td>0.0</td>\n",
       "      <td>1</td>\n",
       "      <td>Clear</td>\n",
       "      <td>sky is clear</td>\n",
       "      <td>2016-09-17 19:00:00</td>\n",
       "      <td>3592</td>\n",
       "    </tr>\n",
       "    <tr>\n",
       "      <th>15980</th>\n",
       "      <td>None</td>\n",
       "      <td>293.514</td>\n",
       "      <td>0.0</td>\n",
       "      <td>0.0</td>\n",
       "      <td>12</td>\n",
       "      <td>Clouds</td>\n",
       "      <td>few clouds</td>\n",
       "      <td>2015-06-22 00:00:00</td>\n",
       "      <td>742</td>\n",
       "    </tr>\n",
       "    <tr>\n",
       "      <th>47547</th>\n",
       "      <td>None</td>\n",
       "      <td>286.820</td>\n",
       "      <td>0.0</td>\n",
       "      <td>0.0</td>\n",
       "      <td>1</td>\n",
       "      <td>Clear</td>\n",
       "      <td>sky is clear</td>\n",
       "      <td>2018-09-09 02:00:00</td>\n",
       "      <td>620</td>\n",
       "    </tr>\n",
       "    <tr>\n",
       "      <th>2505</th>\n",
       "      <td>None</td>\n",
       "      <td>262.890</td>\n",
       "      <td>0.0</td>\n",
       "      <td>0.0</td>\n",
       "      <td>20</td>\n",
       "      <td>Mist</td>\n",
       "      <td>mist</td>\n",
       "      <td>2012-12-29 23:00:00</td>\n",
       "      <td>2419</td>\n",
       "    </tr>\n",
       "    <tr>\n",
       "      <th>26516</th>\n",
       "      <td>None</td>\n",
       "      <td>286.790</td>\n",
       "      <td>0.0</td>\n",
       "      <td>0.0</td>\n",
       "      <td>1</td>\n",
       "      <td>Clear</td>\n",
       "      <td>sky is clear</td>\n",
       "      <td>2016-09-10 22:00:00</td>\n",
       "      <td>3013</td>\n",
       "    </tr>\n",
       "    <tr>\n",
       "      <th>42973</th>\n",
       "      <td>None</td>\n",
       "      <td>269.650</td>\n",
       "      <td>0.0</td>\n",
       "      <td>0.0</td>\n",
       "      <td>1</td>\n",
       "      <td>Snow</td>\n",
       "      <td>light snow</td>\n",
       "      <td>2018-04-06 02:00:00</td>\n",
       "      <td>312</td>\n",
       "    </tr>\n",
       "    <tr>\n",
       "      <th>29545</th>\n",
       "      <td>None</td>\n",
       "      <td>268.440</td>\n",
       "      <td>0.0</td>\n",
       "      <td>0.0</td>\n",
       "      <td>20</td>\n",
       "      <td>Clouds</td>\n",
       "      <td>few clouds</td>\n",
       "      <td>2016-12-27 15:00:00</td>\n",
       "      <td>5147</td>\n",
       "    </tr>\n",
       "    <tr>\n",
       "      <th>13070</th>\n",
       "      <td>None</td>\n",
       "      <td>272.830</td>\n",
       "      <td>0.0</td>\n",
       "      <td>0.0</td>\n",
       "      <td>75</td>\n",
       "      <td>Clouds</td>\n",
       "      <td>broken clouds</td>\n",
       "      <td>2014-03-21 02:00:00</td>\n",
       "      <td>300</td>\n",
       "    </tr>\n",
       "  </tbody>\n",
       "</table>\n",
       "</div>"
      ],
      "text/plain": [
       "      holiday     temp  rain_1h  snow_1h  clouds_all weather_main  \\\n",
       "32412    None  278.820      0.0      0.0           1        Clear   \n",
       "23719    None  288.620      0.0      0.0          90         Mist   \n",
       "26694    None  292.160      0.0      0.0           1        Clear   \n",
       "15980    None  293.514      0.0      0.0          12       Clouds   \n",
       "47547    None  286.820      0.0      0.0           1        Clear   \n",
       "2505     None  262.890      0.0      0.0          20         Mist   \n",
       "26516    None  286.790      0.0      0.0           1        Clear   \n",
       "42973    None  269.650      0.0      0.0           1         Snow   \n",
       "29545    None  268.440      0.0      0.0          20       Clouds   \n",
       "13070    None  272.830      0.0      0.0          75       Clouds   \n",
       "\n",
       "      weather_description            date_time  traffic_volume  \n",
       "32412        sky is clear  2017-04-06 00:00:00             746  \n",
       "23719                mist  2016-05-28 07:00:00            1994  \n",
       "26694        sky is clear  2016-09-17 19:00:00            3592  \n",
       "15980          few clouds  2015-06-22 00:00:00             742  \n",
       "47547        sky is clear  2018-09-09 02:00:00             620  \n",
       "2505                 mist  2012-12-29 23:00:00            2419  \n",
       "26516        sky is clear  2016-09-10 22:00:00            3013  \n",
       "42973          light snow  2018-04-06 02:00:00             312  \n",
       "29545          few clouds  2016-12-27 15:00:00            5147  \n",
       "13070       broken clouds  2014-03-21 02:00:00             300  "
      ]
     },
     "execution_count": 2,
     "metadata": {},
     "output_type": "execute_result"
    }
   ],
   "source": [
    "traffic = pd.read_csv('Metro_Interstate_Traffic_Volume.csv')\n",
    "traffic.sample(10)"
   ]
  },
  {
   "cell_type": "code",
   "execution_count": 3,
   "id": "44eceb36",
   "metadata": {},
   "outputs": [
    {
     "name": "stdout",
     "output_type": "stream",
     "text": [
      "<class 'pandas.core.frame.DataFrame'>\n",
      "RangeIndex: 48204 entries, 0 to 48203\n",
      "Data columns (total 9 columns):\n",
      " #   Column               Non-Null Count  Dtype  \n",
      "---  ------               --------------  -----  \n",
      " 0   holiday              48204 non-null  object \n",
      " 1   temp                 48204 non-null  float64\n",
      " 2   rain_1h              48204 non-null  float64\n",
      " 3   snow_1h              48204 non-null  float64\n",
      " 4   clouds_all           48204 non-null  int64  \n",
      " 5   weather_main         48204 non-null  object \n",
      " 6   weather_description  48204 non-null  object \n",
      " 7   date_time            48204 non-null  object \n",
      " 8   traffic_volume       48204 non-null  int64  \n",
      "dtypes: float64(3), int64(2), object(4)\n",
      "memory usage: 3.3+ MB\n"
     ]
    }
   ],
   "source": [
    "traffic.info()"
   ]
  },
  {
   "cell_type": "markdown",
   "id": "81aeec1e",
   "metadata": {},
   "source": [
    "The column label meanings are as follows:\n",
    "- holiday: Categorical US National holidays plus regional holiday, Minnesota State Fair\n",
    "- temp: Numeric Average temp in kelvin\n",
    "- rain_1h: Numeric Amount in mm of rain that occurred in the hour\n",
    "- snow_1h: Numeric Amount in mm of snow that occurred in the hour\n",
    "- clouds_all: Numeric Percentage of cloud cover\n",
    "- weather_main: Categorical Short textual description of the current weather\n",
    "- weather_description: Categorical Longer textual description of the current weather\n",
    "- date_time: DateTime Hour of the data collected in local CST time\n",
    "- traffic_volume: Numeric Hourly I-94 ATR 301 reported westbound traffic volume\n",
    "\n",
    "Data cleaning steps:\n",
    "1. change the 'temp' column to Farenheight\n",
    "2. change the 'date_time' column to dtype: datetime64\n",
    "3. look for outliers and remove them"
   ]
  },
  {
   "cell_type": "markdown",
   "id": "eb06959e",
   "metadata": {},
   "source": [
    "## Part 2: clean the data"
   ]
  },
  {
   "cell_type": "markdown",
   "id": "bef41c83",
   "metadata": {},
   "source": [
    "### Step 1: change Kelvin to farenheight"
   ]
  },
  {
   "cell_type": "code",
   "execution_count": 4,
   "id": "bddad447",
   "metadata": {},
   "outputs": [],
   "source": [
    "#change kelvin to Farenheight\n",
    "temp_f = []\n",
    "for t in traffic['temp']:\n",
    "    new_temp = round(((t - 273.15) * 9/5 + 32), 2)\n",
    "    temp_f.append(new_temp)\n",
    "    \n",
    "traffic['temp_f'] = temp_f\n",
    "traffic.drop('temp', axis=1, inplace=True)"
   ]
  },
  {
   "cell_type": "markdown",
   "id": "01c299e7",
   "metadata": {},
   "source": [
    "This code block runs a loop over the 'temp' column in the traffic data set and applies the conversion calculation and the result is appended to a new list. The new list is appended to the data set as a new column then the 'Kelvin' column is removed. This is not necessary for the analysis but since farenheight is more familiar it will help with uderstanding the temperature. "
   ]
  },
  {
   "cell_type": "markdown",
   "id": "5f347a62",
   "metadata": {},
   "source": [
    "### Step 2: change the 'weather_description' column to dtype: datetime64"
   ]
  },
  {
   "cell_type": "code",
   "execution_count": 5,
   "id": "c63aa3d3",
   "metadata": {},
   "outputs": [],
   "source": [
    "#change 'weather_description' to date-time type\n",
    "traffic['date_time'] = pd.to_datetime(traffic['date_time'], yearfirst=True)"
   ]
  },
  {
   "cell_type": "markdown",
   "id": "e7b55e83",
   "metadata": {},
   "source": [
    "Above, the code converts the 'date_time' column from object to datetime64"
   ]
  },
  {
   "cell_type": "code",
   "execution_count": 6,
   "id": "c7cb81b2",
   "metadata": {
    "scrolled": true
   },
   "outputs": [
    {
     "name": "stdout",
     "output_type": "stream",
     "text": [
      "<class 'pandas.core.frame.DataFrame'>\n",
      "RangeIndex: 48204 entries, 0 to 48203\n",
      "Data columns (total 9 columns):\n",
      " #   Column               Non-Null Count  Dtype         \n",
      "---  ------               --------------  -----         \n",
      " 0   holiday              48204 non-null  object        \n",
      " 1   rain_1h              48204 non-null  float64       \n",
      " 2   snow_1h              48204 non-null  float64       \n",
      " 3   clouds_all           48204 non-null  int64         \n",
      " 4   weather_main         48204 non-null  object        \n",
      " 5   weather_description  48204 non-null  object        \n",
      " 6   date_time            48204 non-null  datetime64[ns]\n",
      " 7   traffic_volume       48204 non-null  int64         \n",
      " 8   temp_f               48204 non-null  float64       \n",
      "dtypes: datetime64[ns](1), float64(3), int64(2), object(3)\n",
      "memory usage: 3.3+ MB\n"
     ]
    }
   ],
   "source": [
    "#search for null, missing data, and dtypes\n",
    "traffic.info()"
   ]
  },
  {
   "cell_type": "markdown",
   "id": "df8ebd63",
   "metadata": {},
   "source": [
    "### Step 3: check all numerical columns for outliers"
   ]
  },
  {
   "cell_type": "code",
   "execution_count": 7,
   "id": "0bf13094",
   "metadata": {
    "scrolled": true
   },
   "outputs": [
    {
     "data": {
      "text/html": [
       "<div>\n",
       "<style scoped>\n",
       "    .dataframe tbody tr th:only-of-type {\n",
       "        vertical-align: middle;\n",
       "    }\n",
       "\n",
       "    .dataframe tbody tr th {\n",
       "        vertical-align: top;\n",
       "    }\n",
       "\n",
       "    .dataframe thead th {\n",
       "        text-align: right;\n",
       "    }\n",
       "</style>\n",
       "<table border=\"1\" class=\"dataframe\">\n",
       "  <thead>\n",
       "    <tr style=\"text-align: right;\">\n",
       "      <th></th>\n",
       "      <th>rain_1h</th>\n",
       "      <th>snow_1h</th>\n",
       "      <th>clouds_all</th>\n",
       "      <th>traffic_volume</th>\n",
       "      <th>temp_f</th>\n",
       "    </tr>\n",
       "  </thead>\n",
       "  <tbody>\n",
       "    <tr>\n",
       "      <th>count</th>\n",
       "      <td>48204.000000</td>\n",
       "      <td>48204.000000</td>\n",
       "      <td>48204.000000</td>\n",
       "      <td>48204.000000</td>\n",
       "      <td>48204.000000</td>\n",
       "    </tr>\n",
       "    <tr>\n",
       "      <th>mean</th>\n",
       "      <td>0.334264</td>\n",
       "      <td>0.000222</td>\n",
       "      <td>49.362231</td>\n",
       "      <td>3259.818355</td>\n",
       "      <td>46.500571</td>\n",
       "    </tr>\n",
       "    <tr>\n",
       "      <th>std</th>\n",
       "      <td>44.789133</td>\n",
       "      <td>0.008168</td>\n",
       "      <td>39.015750</td>\n",
       "      <td>1986.860670</td>\n",
       "      <td>24.008847</td>\n",
       "    </tr>\n",
       "    <tr>\n",
       "      <th>min</th>\n",
       "      <td>0.000000</td>\n",
       "      <td>0.000000</td>\n",
       "      <td>0.000000</td>\n",
       "      <td>0.000000</td>\n",
       "      <td>-459.670000</td>\n",
       "    </tr>\n",
       "    <tr>\n",
       "      <th>25%</th>\n",
       "      <td>0.000000</td>\n",
       "      <td>0.000000</td>\n",
       "      <td>1.000000</td>\n",
       "      <td>1193.000000</td>\n",
       "      <td>30.220000</td>\n",
       "    </tr>\n",
       "    <tr>\n",
       "      <th>50%</th>\n",
       "      <td>0.000000</td>\n",
       "      <td>0.000000</td>\n",
       "      <td>64.000000</td>\n",
       "      <td>3380.000000</td>\n",
       "      <td>48.740000</td>\n",
       "    </tr>\n",
       "    <tr>\n",
       "      <th>75%</th>\n",
       "      <td>0.000000</td>\n",
       "      <td>0.000000</td>\n",
       "      <td>90.000000</td>\n",
       "      <td>4933.000000</td>\n",
       "      <td>65.580000</td>\n",
       "    </tr>\n",
       "    <tr>\n",
       "      <th>max</th>\n",
       "      <td>9831.300000</td>\n",
       "      <td>0.510000</td>\n",
       "      <td>100.000000</td>\n",
       "      <td>7280.000000</td>\n",
       "      <td>98.460000</td>\n",
       "    </tr>\n",
       "  </tbody>\n",
       "</table>\n",
       "</div>"
      ],
      "text/plain": [
       "            rain_1h       snow_1h    clouds_all  traffic_volume        temp_f\n",
       "count  48204.000000  48204.000000  48204.000000    48204.000000  48204.000000\n",
       "mean       0.334264      0.000222     49.362231     3259.818355     46.500571\n",
       "std       44.789133      0.008168     39.015750     1986.860670     24.008847\n",
       "min        0.000000      0.000000      0.000000        0.000000   -459.670000\n",
       "25%        0.000000      0.000000      1.000000     1193.000000     30.220000\n",
       "50%        0.000000      0.000000     64.000000     3380.000000     48.740000\n",
       "75%        0.000000      0.000000     90.000000     4933.000000     65.580000\n",
       "max     9831.300000      0.510000    100.000000     7280.000000     98.460000"
      ]
     },
     "execution_count": 7,
     "metadata": {},
     "output_type": "execute_result"
    }
   ],
   "source": [
    "traffic.describe()"
   ]
  },
  {
   "cell_type": "markdown",
   "id": "0549b53b",
   "metadata": {},
   "source": [
    "In the result above we can see that there are values in 'rain_1h' and 'temp_f' have values that seem far outside the normal distribution. "
   ]
  },
  {
   "cell_type": "markdown",
   "id": "a63e5b9c",
   "metadata": {},
   "source": [
    "### Step 3A: remove incorrect data"
   ]
  },
  {
   "cell_type": "code",
   "execution_count": 8,
   "id": "7eec48e1",
   "metadata": {
    "scrolled": true
   },
   "outputs": [
    {
     "data": {
      "text/html": [
       "<div>\n",
       "<style scoped>\n",
       "    .dataframe tbody tr th:only-of-type {\n",
       "        vertical-align: middle;\n",
       "    }\n",
       "\n",
       "    .dataframe tbody tr th {\n",
       "        vertical-align: top;\n",
       "    }\n",
       "\n",
       "    .dataframe thead th {\n",
       "        text-align: right;\n",
       "    }\n",
       "</style>\n",
       "<table border=\"1\" class=\"dataframe\">\n",
       "  <thead>\n",
       "    <tr style=\"text-align: right;\">\n",
       "      <th></th>\n",
       "      <th>rain_1h</th>\n",
       "      <th>snow_1h</th>\n",
       "      <th>clouds_all</th>\n",
       "      <th>traffic_volume</th>\n",
       "      <th>temp_f</th>\n",
       "    </tr>\n",
       "  </thead>\n",
       "  <tbody>\n",
       "    <tr>\n",
       "      <th>count</th>\n",
       "      <td>48193.000000</td>\n",
       "      <td>48193.000000</td>\n",
       "      <td>48193.000000</td>\n",
       "      <td>48193.000000</td>\n",
       "      <td>48193.000000</td>\n",
       "    </tr>\n",
       "    <tr>\n",
       "      <th>mean</th>\n",
       "      <td>0.130342</td>\n",
       "      <td>0.000222</td>\n",
       "      <td>49.371942</td>\n",
       "      <td>3260.174029</td>\n",
       "      <td>46.604820</td>\n",
       "    </tr>\n",
       "    <tr>\n",
       "      <th>std</th>\n",
       "      <td>1.003480</td>\n",
       "      <td>0.008169</td>\n",
       "      <td>39.013548</td>\n",
       "      <td>1986.754010</td>\n",
       "      <td>22.876886</td>\n",
       "    </tr>\n",
       "    <tr>\n",
       "      <th>min</th>\n",
       "      <td>0.000000</td>\n",
       "      <td>0.000000</td>\n",
       "      <td>0.000000</td>\n",
       "      <td>0.000000</td>\n",
       "      <td>-21.570000</td>\n",
       "    </tr>\n",
       "    <tr>\n",
       "      <th>25%</th>\n",
       "      <td>0.000000</td>\n",
       "      <td>0.000000</td>\n",
       "      <td>1.000000</td>\n",
       "      <td>1194.000000</td>\n",
       "      <td>30.250000</td>\n",
       "    </tr>\n",
       "    <tr>\n",
       "      <th>50%</th>\n",
       "      <td>0.000000</td>\n",
       "      <td>0.000000</td>\n",
       "      <td>64.000000</td>\n",
       "      <td>3380.000000</td>\n",
       "      <td>48.760000</td>\n",
       "    </tr>\n",
       "    <tr>\n",
       "      <th>75%</th>\n",
       "      <td>0.000000</td>\n",
       "      <td>0.000000</td>\n",
       "      <td>90.000000</td>\n",
       "      <td>4933.000000</td>\n",
       "      <td>65.590000</td>\n",
       "    </tr>\n",
       "    <tr>\n",
       "      <th>max</th>\n",
       "      <td>55.630000</td>\n",
       "      <td>0.510000</td>\n",
       "      <td>100.000000</td>\n",
       "      <td>7280.000000</td>\n",
       "      <td>98.460000</td>\n",
       "    </tr>\n",
       "  </tbody>\n",
       "</table>\n",
       "</div>"
      ],
      "text/plain": [
       "            rain_1h       snow_1h    clouds_all  traffic_volume        temp_f\n",
       "count  48193.000000  48193.000000  48193.000000    48193.000000  48193.000000\n",
       "mean       0.130342      0.000222     49.371942     3260.174029     46.604820\n",
       "std        1.003480      0.008169     39.013548     1986.754010     22.876886\n",
       "min        0.000000      0.000000      0.000000        0.000000    -21.570000\n",
       "25%        0.000000      0.000000      1.000000     1194.000000     30.250000\n",
       "50%        0.000000      0.000000     64.000000     3380.000000     48.760000\n",
       "75%        0.000000      0.000000     90.000000     4933.000000     65.590000\n",
       "max       55.630000      0.510000    100.000000     7280.000000     98.460000"
      ]
     },
     "execution_count": 8,
     "metadata": {},
     "output_type": "execute_result"
    }
   ],
   "source": [
    "#remove temperatures that are less than -100 degrees\n",
    "too_cold = traffic['temp_f'] > -100\n",
    "cold_traffic = traffic[too_cold]\n",
    "\n",
    "#remove rain data that is incorrect\n",
    "too_rainy = cold_traffic['rain_1h'] < 60 \n",
    "clean_traffic = cold_traffic[too_rainy]\n",
    "\n",
    "#check the final data set compared to that in Step 3:\n",
    "clean_traffic.describe()"
   ]
  },
  {
   "cell_type": "markdown",
   "id": "5e8b0883",
   "metadata": {},
   "source": [
    "The data set is now cleaned and ready for exploration. \n",
    "\n",
    "The final dataset is called 'clean_traffic'"
   ]
  },
  {
   "cell_type": "markdown",
   "id": "08ad12d8",
   "metadata": {},
   "source": [
    "## Part 3: exploration and analysis"
   ]
  },
  {
   "cell_type": "markdown",
   "id": "6e0cd478",
   "metadata": {},
   "source": [
    "Exploration plan: \n",
    "1. Look at the distribution of traffic_volume\n",
    "2. Observe the average traffic_volume per hour\n",
    "3. Look at traffic volume during daytime vs nighttime hours\n",
    "4. Examine traffic volume by month, and by day of week\n",
    "5. Determine if weather has any correlation to traffic volume\n"
   ]
  },
  {
   "cell_type": "markdown",
   "id": "64bffa17",
   "metadata": {},
   "source": [
    "### Step 1: traffic volume distribution"
   ]
  },
  {
   "cell_type": "code",
   "execution_count": 9,
   "id": "a45eb061",
   "metadata": {},
   "outputs": [
    {
     "data": {
      "text/plain": [
       "count    48193.000000\n",
       "mean      3260.174029\n",
       "std       1986.754010\n",
       "min          0.000000\n",
       "25%       1194.000000\n",
       "50%       3380.000000\n",
       "75%       4933.000000\n",
       "max       7280.000000\n",
       "Name: traffic_volume, dtype: float64"
      ]
     },
     "execution_count": 9,
     "metadata": {},
     "output_type": "execute_result"
    },
    {
     "data": {
      "image/png": "[encoded data removed]",
      "text/plain": [
       "<Figure size 864x576 with 1 Axes>"
      ]
     },
     "metadata": {},
     "output_type": "display_data"
    }
   ],
   "source": [
    "#add matploylib inline magic:\n",
    "%matplotlib inline\n",
    "from matplotlib import rcParams\n",
    "\n",
    "#plot traffic_volume\n",
    "sns.set_theme()\n",
    "sns.displot(data=clean_traffic, x='traffic_volume', height=8, aspect=1.5)\n",
    "\n",
    "clean_traffic['traffic_volume'].describe()"
   ]
  },
  {
   "cell_type": "markdown",
   "id": "b2a05ffc",
   "metadata": {},
   "source": [
    "The chart above shows that the most traffiv volume is between 4500-5500 and 0-1000. "
   ]
  },
  {
   "cell_type": "markdown",
   "id": "92a88a87",
   "metadata": {},
   "source": [
    "### Step 2: explore relationship between hour and traffic volume"
   ]
  },
  {
   "cell_type": "code",
   "execution_count": 10,
   "id": "a3d19546",
   "metadata": {},
   "outputs": [
    {
     "data": {
      "image/png": "[encoded data removed]",
      "text/plain": [
       "<Figure size 648x432 with 1 Axes>"
      ]
     },
     "metadata": {},
     "output_type": "display_data"
    }
   ],
   "source": [
    "#create an hour column in the dataframe and use that for analysis:\n",
    "clean_traffic['hour'] = clean_traffic['date_time'].dt.hour\n",
    "\n",
    "sns.relplot(data=clean_traffic, x='hour', y='traffic_volume', kind='line', height=6, aspect=1.5)\n",
    "plt.xticks(range(0, 24))\n",
    "plt.title('Avg Traffic Vol by Hour')\n",
    "plt.show()"
   ]
  },
  {
   "cell_type": "markdown",
   "id": "5c48599f",
   "metadata": {},
   "source": [
    "We can see in the plot above that traffic volume starts off low from midnight to 0400. We then see an exponential incease in traffic volume from 0500 to 0700. Maybe this is morning rush hour traffic. From 0700 to 1000 traffic volume seems to dip slightly then rises from 1100 to 1600 with the peak at 1600. From 1600 to midnight traffic volume dips down significantly again. "
   ]
  },
  {
   "cell_type": "markdown",
   "id": "1e182d95",
   "metadata": {},
   "source": [
    "### Step 3: plot dat time vs. night time traffic volume"
   ]
  },
  {
   "cell_type": "code",
   "execution_count": 11,
   "id": "5501bb3a",
   "metadata": {},
   "outputs": [],
   "source": [
    "#create night time filter\n",
    "night_late = clean_traffic['hour'] >= 19\n",
    "night_early = clean_traffic['hour'] < 7\n",
    "nighttime = night_late | night_early "
   ]
  },
  {
   "cell_type": "code",
   "execution_count": 12,
   "id": "79022bc0",
   "metadata": {},
   "outputs": [],
   "source": [
    "#create day time filter \n",
    "day_1 = clean_traffic['hour'] < 19 \n",
    "day_2 = clean_traffic['hour'] >= 7\n",
    "daytime = day_1 & day_2"
   ]
  },
  {
   "cell_type": "code",
   "execution_count": 13,
   "id": "74259b2d",
   "metadata": {},
   "outputs": [
    {
     "data": {
      "image/png": "[encoded data removed]",
      "text/plain": [
       "<Figure size 864x432 with 2 Axes>"
      ]
     },
     "metadata": {},
     "output_type": "display_data"
    }
   ],
   "source": [
    "#plot daytime vs nighttime traffic\n",
    "\n",
    "night_volume = clean_traffic[nighttime]\n",
    "day_volume = clean_traffic[daytime]\n",
    "\n",
    "plt.figure(figsize=(12, 6))\n",
    "plt.subplot(1, 2, 1)\n",
    "sns.barplot(data=night_volume, x='hour', y='traffic_volume')\n",
    "plt.ylim(0, 6000)\n",
    "plt.title('Night time Traffic Volume')\n",
    "\n",
    "plt.subplot(1, 2, 2)\n",
    "sns.barplot(data=day_volume, x='hour', y='traffic_volume')\n",
    "plt.title('Day time Traffic Volume')\n",
    "plt.ylim(0, 6000)\n",
    "plt.show()"
   ]
  },
  {
   "cell_type": "markdown",
   "id": "6a739043",
   "metadata": {},
   "source": [
    "Here we can see that the peak traffic volume during night time hours is just above 4000, with the traffic volume during the remaining night time hours below 3000. Conpared to the day time hours, night time is significantly lower than day time. During day time hours the peak traffic volume is just under 6000. "
   ]
  },
  {
   "cell_type": "markdown",
   "id": "da616d8d",
   "metadata": {},
   "source": [
    "### Step 4: plot traffic volume by month and week day"
   ]
  },
  {
   "cell_type": "code",
   "execution_count": 14,
   "id": "224964af",
   "metadata": {},
   "outputs": [
    {
     "data": {
      "text/plain": [
       "Text(0.5, 1.0, 'Avg Daily Traffic Volume')"
      ]
     },
     "execution_count": 14,
     "metadata": {},
     "output_type": "execute_result"
    },
    {
     "data": {
      "image/png": "[encoded data removed]",
      "text/plain": [
       "<Figure size 360x360 with 1 Axes>"
      ]
     },
     "metadata": {},
     "output_type": "display_data"
    },
    {
     "data": {
      "image/png": "[encoded data removed]",
      "text/plain": [
       "<Figure size 360x360 with 1 Axes>"
      ]
     },
     "metadata": {},
     "output_type": "display_data"
    }
   ],
   "source": [
    "#create new dataframes for traffic volume by month, by day\n",
    "\n",
    "#create a month column \n",
    "clean_traffic['month'] = clean_traffic['date_time'].dt.month\n",
    "month_df = clean_traffic.groupby(['month']).mean()\n",
    "\n",
    "#create a day of week column\n",
    "clean_traffic['day_of_week'] = clean_traffic['date_time'].dt.dayofweek\n",
    "dayofweek_df = clean_traffic.groupby(['day_of_week']).mean()\n",
    "\n",
    "#plot monthly traffic vol\n",
    "sns.relplot(data=month_df, x='month', y='traffic_volume', kind='line')\n",
    "plt.title('Avg Monthly Traffic Volume')\n",
    "\n",
    "#plot daily traffic vol\n",
    "sns.relplot(data=dayofweek_df, x='day_of_week', y='traffic_volume', kind='line')\n",
    "plt.title('Avg Daily Traffic Volume')\n",
    "\n"
   ]
  },
  {
   "cell_type": "markdown",
   "id": "e657bc08",
   "metadata": {},
   "source": [
    "The line plot that is plotted first shows no real discernable pattern except that traffic volume is slightly lower in the winter months, November to February, and higher in the months from March to October. This could be due to holidays, but maybe seems counter intuitive because people tend to travel more during holiday seasons. Also this could be due to weather patterns. In Mischigan there is usually snowfall in the winter so we should explore how snow patterns affect traffic volume to see if there is any correlation. \n",
    "\n",
    "The traffic volume by weekday plot shows a good pattern. In the x-axis, day of the week corresponds to 0: Monday, 1: Tuesday, 2: Wednesday, 3: Thursday, 4: Friday, 5: Saturday, 6: Sunday. We can see that on Monday traffic volume gradually increases up to Friday, where it peaks and then drops off significantly from 3600 to 2400 by Sunday. In short, people travel less on the weekends. "
   ]
  },
  {
   "cell_type": "markdown",
   "id": "c6ef834f",
   "metadata": {},
   "source": [
    "### Step 4: find the correlation between traffic volume and all other categories"
   ]
  },
  {
   "cell_type": "code",
   "execution_count": 15,
   "id": "e8761a86",
   "metadata": {
    "scrolled": true
   },
   "outputs": [
    {
     "name": "stdout",
     "output_type": "stream",
     "text": [
      "rain_1h          -0.022382\n",
      "snow_1h           0.000729\n",
      "clouds_all        0.066804\n",
      "traffic_volume    1.000000\n",
      "temp_f            0.132256\n",
      "hour              0.352277\n",
      "month            -0.002819\n",
      "day_of_week      -0.149299\n",
      "Name: traffic_volume, dtype: float64\n"
     ]
    }
   ],
   "source": [
    "#look at correlation between weather and traffic volume\n",
    "\n",
    "correlations = clean_traffic.corr()['traffic_volume']\n",
    "print(correlations)"
   ]
  },
  {
   "cell_type": "markdown",
   "id": "e4f6f56c",
   "metadata": {},
   "source": [
    "We can see here in the above output from the correlation method that the category that has the highest correlation to traffic_volume is 'hour'. This is consistent with the exploratory plots that were created above. The remainder of the categories have very weak correlation to traffic volume compared to hour. Even though 'hour; has the highest correlation to traffic volume, it is still a weak positive correlation at only 0.35. "
   ]
  },
  {
   "cell_type": "markdown",
   "id": "ba1f15ce",
   "metadata": {},
   "source": [
    "## Part 4: conclusion"
   ]
  },
  {
   "cell_type": "markdown",
   "id": "97fedab7",
   "metadata": {},
   "source": [
    "The purpose of this analysis was to determine the factors that have the most influence on traffic volume on the I-94 corridor along the westbound lanes in St. Paul, Minnesota. \n",
    "\n",
    "We determined above that traffic volume along the west bound lanes of the I-94 corridor in St. Paul Minnesota, depends mostly on the time of day. Time of day has the highest correlation to traffic volume although it is still a relatively weak correlation. Other factors such as rain, snow, cloud coverage, temperature, day of week and month were analyzed but showed no strong correlation to traffic volume. We determined that the second most important factor on traffic volume is day of the week. In general, traffic volume is higher on working days, Monday through Friday, than on the weekends, Saturday and Sunday. \n",
    "\n",
    "If a traveller was reading this information and wanted to avoid heavy traffic, or if a public agency was putting out suggestions for travellers to avoid heavy traffic congestion, they should avoid travelling during the morning rush hours of 0600-0800 and 1500-1600 Monday through Friday. The best times to travel to avoid traffic congestion is during the night, 1700-0400, and during the weekends, Saturday, and Sunday. "
   ]
  }
 ],
 "metadata": {
  "kernelspec": {
   "display_name": "Python 3 (ipykernel)",
   "language": "python",
   "name": "python3"
  },
  "language_info": {
   "codemirror_mode": {
    "name": "ipython",
    "version": 3
   },
   "file_extension": ".py",
   "mimetype": "text/x-python",
   "name": "python",
   "nbconvert_exporter": "python",
   "pygments_lexer": "ipython3",
   "version": "3.7.11"
  }
 },
 "nbformat": 4,
 "nbformat_minor": 5
}
